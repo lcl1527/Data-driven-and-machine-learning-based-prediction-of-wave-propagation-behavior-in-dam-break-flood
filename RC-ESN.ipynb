{
 "cells": [
  {
   "cell_type": "code",
   "execution_count": 2,
   "id": "feb583ed",
   "metadata": {},
   "outputs": [],
   "source": [
    "import numpy as np\n",
    "import scipy.sparse as sparse\n",
    "from scipy.sparse import linalg\n",
    "import pandas as pd\n",
    "from scipy.io import loadmat\n",
    "from scipy.io import savemat\n",
    "from matplotlib.pyplot import *\n",
    "import matplotlib.pyplot as plt"
   ]
  },
  {
   "cell_type": "raw",
   "id": "dcaaf6db",
   "metadata": {},
   "source": [
    "# approx_res_size = 1400 # reservoir size\n",
    "\n",
    "\n",
    "model_params = {'N': 200}\n",
    "\n",
    "res_params = {'radius':0.1, \n",
    "             'degree': 3,\n",
    "             'sigma': 0.5,\n",
    "             'train_length': 2000,\n",
    "             'N': int(np.floor(approx_res_size/model_params['N']) * model_params['N']), \n",
    "             'num_inputs': model_params['N'],\n",
    "             'predict_length': 500, \n",
    "             'beta': 0.0001 \n",
    "              }"
   ]
  },
  {
   "cell_type": "code",
   "execution_count": 3,
   "id": "9f375f5f",
   "metadata": {},
   "outputs": [],
   "source": [
    "# The ESN functions for training, adjacency matric A represent the connectivity of the reservoir neurons\n",
    "def generate_reservoir(size,radius,degree):\n",
    "    sparsity = degree/float(size)\n",
    "    A = sparse.rand(size,size,density=sparsity).todense()\n",
    "    vals = np.linalg.eigvals(A) \n",
    "    e = np.max(np.abs(vals))\n",
    "    A = (A/e) * radius \n",
    "    return A "
   ]
  },
  {
   "cell_type": "code",
   "execution_count": 4,
   "id": "d39d3990",
   "metadata": {},
   "outputs": [],
   "source": [
    "def reservoir_layer(A, Win, input, res_params):\n",
    "    states = np.zeros((res_params['N'],res_params['train_length']))\n",
    "    for i in range(res_params['train_length']-1):\n",
    "        states[:,i+1] = np.tanh(np.dot(A,states[:,i]) + np.dot(Win,input[:,i]))\n",
    "    return states "
   ]
  },
  {
   "cell_type": "code",
   "execution_count": 5,
   "id": "d9ed86a5",
   "metadata": {},
   "outputs": [],
   "source": [
    "def train_reservoir(res_params, data):\n",
    "    A = generate_reservoir(res_params['N'], res_params['radius'], res_params['degree'])\n",
    "    q = int(res_params['N']/res_params['num_inputs'])\n",
    "    Win = np.zeros((res_params['N'],res_params['num_inputs']))\n",
    "    for i in range(res_params['num_inputs']):\n",
    "        np.random.seed(seed=i)\n",
    "        Win[i*q: (i+1)*q,i] = res_params['sigma'] * (-1 + 2 * np.random.rand(1,q)[0])\n",
    "        \n",
    "    states = reservoir_layer(A, Win, data, res_params)\n",
    "    Wout = train(res_params, states, data)\n",
    "    x = states[:,-1]\n",
    "    return x, Wout, A, Win"
   ]
  },
  {
   "cell_type": "code",
   "execution_count": 6,
   "id": "6e7511db",
   "metadata": {},
   "outputs": [],
   "source": [
    "def train(res_params,states,data):\n",
    "    beta = res_params['beta'] \n",
    "    idenmat = beta * sparse.identity(res_params['N'])\n",
    "    states2 = states.copy()\n",
    "    for j in range(2,np.shape(states2)[0]-2):\n",
    "        if (np.mod(j,2)==0):\n",
    "            states2[j,:] = (states[j-1,:]*states[j-2,:]).copy()\n",
    "    U = np.dot(states2,states2.transpose()) + idenmat\n",
    "    Uinv = np.linalg.inv(U)\n",
    "    Wout = np.dot(Uinv,np.dot(states2,data.transpose()))\n",
    "    return Wout.transpose()"
   ]
  },
  {
   "cell_type": "code",
   "execution_count": 7,
   "id": "6e54e46b",
   "metadata": {},
   "outputs": [],
   "source": [
    "def predict(A, Win, res_params, x, Wout):\n",
    "    output = np.zeros((res_params['num_inputs'],res_params['predict_length']))\n",
    "    for i in range(res_params['predict_length']):\n",
    "        x_aug = x.copy()\n",
    "        for j in range(2,np.shape(x_aug)[0]-2):\n",
    "            if (np.mod(j,2)==0):\n",
    "                x_aug[j] = (x[j-1]*x[j-2]).copy()\n",
    "        out = np.squeeze(np.asarray(np.dot(Wout,x_aug)))\n",
    "        output[:,i] = out\n",
    "        x1 = np.tanh(np.dot(A,x) + np.dot(Win,out))\n",
    "        x = np.squeeze(np.asarray(x1))\n",
    "    return output, x"
   ]
  },
  {
   "cell_type": "code",
   "execution_count": 8,
   "id": "45630333",
   "metadata": {},
   "outputs": [],
   "source": [
    "# compute RMSE\n",
    "def computeRMSE(X_pred, X_true):\n",
    "    X_pred_avg = X_pred[:,:,:]\n",
    "    X_true_avg = X_true[:,:,:]\n",
    "    err = X_true_avg-X_pred_avg\n",
    "    err_temp = np.multiply(err, err)\n",
    "    RMSE_ini=np.sqrt(np.mean(err_temp, axis=0)) # [time_step,ic]\n",
    "    RMSE_time=np.mean(RMSE_ini,axis=1) # [time_step]\n",
    "    return RMSE_ini,RMSE_time"
   ]
  },
  {
   "cell_type": "code",
   "execution_count": 59,
   "id": "c4f3c3ef",
   "metadata": {},
   "outputs": [],
   "source": [
    "# compute ACC\n",
    "def computeAnomalyCorrelationCoefficient(X_pred, X_true):\n",
    "    AC_vec = np.zeros((X_pred.shape[1], X_pred.shape[2]))  # X_pred[feature,time_step,ic(initial condition)]\n",
    "    for ic in range(X_pred.shape[2]):\n",
    "        X_pred_avg = np.matrix(X_pred[:,:,ic])\n",
    "        X_true_avg = np.matrix(X_true[:,:,ic])\n",
    "        X_true_mean = np.mean(X_true[:,:,ic], axis=1)  # real mean in whole time [feature]\n",
    "        temp1 = np.multiply((X_pred_avg-(np.matrix(X_true_mean)).T),(X_true_avg-(np.matrix(X_true_mean)).T))\n",
    "        temp1 = np.sum(temp1, axis=0)  # [time_step]\n",
    "        temp2 = np.multiply((X_pred_avg-(np.matrix(X_true_mean)).T),(X_pred_avg-(np.matrix(X_true_mean)).T))\n",
    "        temp2 = np.sqrt(np.sum(temp2, axis=0))  # [time_step]\n",
    "        temp3 = np.multiply((X_true_avg-(np.matrix(X_true_mean)).T),(X_true_avg-(np.matrix(X_true_mean)).T))\n",
    "        temp3 = np.sqrt(np.sum(temp3, axis=0))  # [time_step]\n",
    "        AC_vec[:,ic] = temp1/np.multiply(temp2,temp3)  # [time_step,ic]\n",
    "    print(\"Mean anomaly correlation coefficient over\"+str(X_pred.shape[2])\n",
    "          + \" different initial conditions\")\n",
    "    AC = np.mean(AC_vec, axis=1)  # [time_step] \n",
    "    return AC, AC_vec"
   ]
  },
  {
   "cell_type": "code",
   "execution_count": 9,
   "id": "4b49e01d",
   "metadata": {},
   "outputs": [],
   "source": [
    "file_H='1D S-V\\1D S-V data.mat'\n",
    "dataf_H=loadmat(file_H,mat_dtype=True)\n",
    "dataf_H=dataf_H['Hrecord']\n",
    "data_H = np.transpose(np.array(dataf_H[15000:,1:202])) # [feature, time_step]"
   ]
  },
  {
   "cell_type": "raw",
   "id": "d73944e6",
   "metadata": {},
   "source": [
    "28 initial condition IC：shift_k=0,3000,6000,9000,...81000"
   ]
  },
  {
   "cell_type": "code",
   "execution_count": 24,
   "id": "d5d150b9",
   "metadata": {},
   "outputs": [],
   "source": [
    "Y_true=np.zeros((res_params['num_inputs'],res_params['predict_length'],28)) # [feature,time_step,ic(initial condition)]\n",
    "Y_pred=np.zeros((res_params['num_inputs'],res_params['predict_length'],28))"
   ]
  },
  {
   "cell_type": "code",
   "execution_count": 29,
   "id": "b376329f",
   "metadata": {},
   "outputs": [
    {
     "name": "stdout",
     "output_type": "stream",
     "text": [
      "0 0\n",
      "1 3000\n",
      "2 6000\n",
      "3 9000\n",
      "4 12000\n",
      "5 15000\n",
      "6 18000\n",
      "7 21000\n",
      "8 24000\n",
      "9 27000\n",
      "10 30000\n",
      "11 33000\n",
      "12 36000\n",
      "13 39000\n",
      "14 42000\n",
      "15 45000\n",
      "16 48000\n",
      "17 51000\n",
      "18 54000\n",
      "19 57000\n",
      "20 60000\n",
      "21 63000\n",
      "22 66000\n",
      "23 69000\n",
      "24 72000\n",
      "25 75000\n",
      "26 78000\n",
      "27 81000\n"
     ]
    }
   ],
   "source": [
    "for i in range(28):\n",
    "    shift_k = 3000*i\n",
    "    print(i,shift_k)\n",
    "    # Train reservoir\n",
    "    x,Wout,A,Win = train_reservoir(res_params,data_H[:,shift_k:shift_k+res_params['train_length']])\n",
    "    # Prediction\n",
    "    output, _ = predict(A, Win,res_params,x,Wout)\n",
    "    Y_true[:,:,i]=data_H[:,shift_k+res_params['train_length']:\\\n",
    "                           shift_k+res_params['train_length']+res_params['predict_length']]\n",
    "    Y_pred[:,:,i]=output"
   ]
  },
  {
   "cell_type": "code",
   "execution_count": 61,
   "id": "e6bbcfb9",
   "metadata": {},
   "outputs": [
    {
     "name": "stdout",
     "output_type": "stream",
     "text": [
      "Mean anomaly correlation coefficient over28 different initial conditions\n"
     ]
    }
   ],
   "source": [
    "RMSE_ini,RMSE_time=computeRMSE(Y_pred, Y_true)\n",
    "AC, AC_vec=computeAnomalyCorrelationCoefficient(Y_pred, Y_true)\n",
    "savemat('Res_size'+str(approx_res_size)+'_Rd_'+str(res_params['radius'])+'_Shift_number_28'\\\n",
    "        +'.mat',{'Y_true':Y_true,'Y_pred':Y_pred,'RMSE_ini':RMSE_ini,'RMSE_time':RMSE_time,\\\n",
    "                 'AC':AC,'AC_vec':AC_vec})"
   ]
  },
  {
   "cell_type": "markdown",
   "id": "16fbeeaa",
   "metadata": {},
   "source": [
    "# Res_size, IC1"
   ]
  },
  {
   "cell_type": "code",
   "execution_count": 17,
   "id": "3e2c88ff",
   "metadata": {},
   "outputs": [],
   "source": [
    "Y_true_Res=np.zeros((200,500,25)) # [feature,time_step,RS(Res_size)]\n",
    "Y_pred_Res=np.zeros((200,500,25))"
   ]
  },
  {
   "cell_type": "code",
   "execution_count": 18,
   "id": "663cabfe",
   "metadata": {},
   "outputs": [
    {
     "name": "stdout",
     "output_type": "stream",
     "text": [
      "0 200\n",
      "1 400\n",
      "2 600\n",
      "3 800\n",
      "4 1000\n",
      "5 1200\n",
      "6 1400\n",
      "7 1600\n",
      "8 1800\n",
      "9 2000\n",
      "10 2200\n",
      "11 2400\n",
      "12 2600\n",
      "13 2800\n",
      "14 3000\n",
      "15 3200\n",
      "16 3400\n",
      "17 3600\n",
      "18 3800\n",
      "19 4000\n",
      "20 4200\n",
      "21 4400\n",
      "22 4600\n",
      "23 4800\n",
      "24 5000\n"
     ]
    }
   ],
   "source": [
    "for i in range(25):\n",
    "    approx_res_size = 200*i+200\n",
    "    shift_k = 3000*0\n",
    "    print(i,approx_res_size)\n",
    "    \n",
    "    model_params = {'N': 200}\n",
    "\n",
    "    res_params = {'radius':0.1, \n",
    "             'degree': 3, \n",
    "             'sigma': 0.5,\n",
    "             'train_length': 2000,\n",
    "             'N': int(np.floor(approx_res_size/model_params['N']) * model_params['N']), # 储备池维度\n",
    "             'num_inputs': model_params['N'],\n",
    "             'predict_length': 500,\n",
    "             'beta': 0.0001 \n",
    "              }\n",
    "    # Train reservoir\n",
    "    x,Wout,A,Win = train_reservoir(res_params,data_H[:,shift_k:shift_k+res_params['train_length']])\n",
    "    # Prediction\n",
    "    output, _ = predict(A, Win,res_params,x,Wout)\n",
    "    Y_true_Res[:,:,i]=data_H[:,shift_k+res_params['train_length']:\\\n",
    "                           shift_k+res_params['train_length']+res_params['predict_length']]\n",
    "    Y_pred_Res[:,:,i]=output"
   ]
  },
  {
   "cell_type": "code",
   "execution_count": 19,
   "id": "47c16f5c",
   "metadata": {},
   "outputs": [],
   "source": [
    "RMSE_ini,RMSE_time=computeRMSE(Y_pred_Res, Y_true_Res)"
   ]
  },
  {
   "cell_type": "code",
   "execution_count": 20,
   "id": "5d8db789",
   "metadata": {},
   "outputs": [],
   "source": [
    "savemat('Res_size_25'+'_Rd_'+str(res_params['radius'])+'_Shift_number_1'\\\n",
    "        +'.mat',{'Y_true':Y_true_Res,'Y_pred':Y_pred_Res,'RMSE_ini':RMSE_ini,'RMSE_time':RMSE_time})"
   ]
  },
  {
   "cell_type": "markdown",
   "id": "237928d4",
   "metadata": {},
   "source": [
    "# Raduis, IC1"
   ]
  },
  {
   "cell_type": "code",
   "execution_count": 9,
   "id": "68c46a94",
   "metadata": {},
   "outputs": [],
   "source": [
    "Y_true_Rd=np.zeros((200,500,100)) # [feature,time_step,RS(Res_size)]\n",
    "Y_pred_Rd=np.zeros((200,500,100))"
   ]
  },
  {
   "cell_type": "code",
   "execution_count": null,
   "id": "069b8fa9",
   "metadata": {},
   "outputs": [],
   "source": [
    "for i in range(100):\n",
    "    approx_res_size = 1400\n",
    "    shift_k = 3000*0\n",
    "    \n",
    "    model_params = {'N': 200}\n",
    "\n",
    "    res_params = {'radius':0.01+i*0.01,\n",
    "             'degree': 3, # 平均度\n",
    "             'sigma': 0.5,\n",
    "             'train_length': 2000,\n",
    "             'N': int(np.floor(approx_res_size/model_params['N']) * model_params['N']), # 储备池维度\n",
    "             'num_inputs': model_params['N'],\n",
    "             'predict_length': 500, \n",
    "             'beta': 0.0001 \n",
    "              }\n",
    "    print(i,res_params['radius'])\n",
    "    # Train reservoir\n",
    "    x,Wout,A,Win = train_reservoir(res_params,data_H[:,shift_k:shift_k+res_params['train_length']])\n",
    "    # Prediction\n",
    "    output, _ = predict(A, Win,res_params,x,Wout)\n",
    "    Y_true_Rd[:,:,i]=data_H[:,shift_k+res_params['train_length']:\\\n",
    "                           shift_k+res_params['train_length']+res_params['predict_length']]\n",
    "    Y_pred_Rd[:,:,i]=output"
   ]
  },
  {
   "cell_type": "code",
   "execution_count": 11,
   "id": "ea8a5301",
   "metadata": {},
   "outputs": [],
   "source": [
    "RMSE_ini,RMSE_time=computeRMSE(Y_pred_Rd, Y_true_Rd)"
   ]
  },
  {
   "cell_type": "code",
   "execution_count": 12,
   "id": "70a7e4f4",
   "metadata": {},
   "outputs": [],
   "source": [
    "savemat('Res_size_1400'+'_Rd_100'+'_Shift_number_1'\\\n",
    "        +'.mat',{'Y_true':Y_true_Rd,'Y_pred':Y_pred_Rd,'RMSE_ini':RMSE_ini,'RMSE_time':RMSE_time})"
   ]
  },
  {
   "cell_type": "markdown",
   "id": "2cd7a643",
   "metadata": {},
   "source": [
    "# trianing_size"
   ]
  },
  {
   "cell_type": "code",
   "execution_count": 13,
   "id": "4d99fde9",
   "metadata": {},
   "outputs": [],
   "source": [
    "Y_true_Rd=np.zeros((200,500,83)) # [feature,time_step,RS(Res_size)]\n",
    "Y_pred_Rd=np.zeros((200,500,83))"
   ]
  },
  {
   "cell_type": "code",
   "execution_count": 14,
   "id": "763571ae",
   "metadata": {},
   "outputs": [
    {
     "name": "stdout",
     "output_type": "stream",
     "text": [
      "0 1000\n",
      "1 2000\n",
      "2 3000\n",
      "3 4000\n",
      "4 5000\n",
      "5 6000\n",
      "6 7000\n",
      "7 8000\n",
      "8 9000\n",
      "9 10000\n",
      "10 11000\n",
      "11 12000\n",
      "12 13000\n",
      "13 14000\n",
      "14 15000\n",
      "15 16000\n",
      "16 17000\n",
      "17 18000\n",
      "18 19000\n",
      "19 20000\n",
      "20 21000\n",
      "21 22000\n",
      "22 23000\n",
      "23 24000\n",
      "24 25000\n",
      "25 26000\n",
      "26 27000\n",
      "27 28000\n",
      "28 29000\n",
      "29 30000\n",
      "30 31000\n",
      "31 32000\n",
      "32 33000\n",
      "33 34000\n",
      "34 35000\n",
      "35 36000\n",
      "36 37000\n",
      "37 38000\n",
      "38 39000\n",
      "39 40000\n",
      "40 41000\n",
      "41 42000\n",
      "42 43000\n",
      "43 44000\n",
      "44 45000\n",
      "45 46000\n",
      "46 47000\n",
      "47 48000\n",
      "48 49000\n",
      "49 50000\n",
      "50 51000\n",
      "51 52000\n",
      "52 53000\n",
      "53 54000\n",
      "54 55000\n",
      "55 56000\n",
      "56 57000\n",
      "57 58000\n",
      "58 59000\n",
      "59 60000\n",
      "60 61000\n",
      "61 62000\n",
      "62 63000\n",
      "63 64000\n",
      "64 65000\n",
      "65 66000\n",
      "66 67000\n",
      "67 68000\n",
      "68 69000\n",
      "69 70000\n",
      "70 71000\n",
      "71 72000\n",
      "72 73000\n",
      "73 74000\n",
      "74 75000\n",
      "75 76000\n",
      "76 77000\n",
      "77 78000\n",
      "78 79000\n",
      "79 80000\n",
      "80 81000\n",
      "81 82000\n",
      "82 83000\n"
     ]
    }
   ],
   "source": [
    "for i in range(83):\n",
    "    approx_res_size = 1400\n",
    "    shift_k = 0\n",
    "    train_length=1000*i+1000\n",
    "    \n",
    "    model_params = {'N': 200}\n",
    "\n",
    "    res_params = {'radius':0.1,\n",
    "             'degree': 3,\n",
    "             'sigma': 0.5,\n",
    "             'train_length': train_length,\n",
    "             'N': int(np.floor(approx_res_size/model_params['N']) * model_params['N']), # 储备池维度\n",
    "             'num_inputs': model_params['N'], \n",
    "             'predict_length': 500,\n",
    "             'beta': 0.0001\n",
    "              }\n",
    "    print(i,res_params['train_length'])\n",
    "    # Train reservoir\n",
    "    x,Wout,A,Win = train_reservoir(res_params,data_H[:,shift_k:shift_k+res_params['train_length']])\n",
    "    # Prediction\n",
    "    output, _ = predict(A, Win,res_params,x,Wout)\n",
    "    Y_true_Rd[:,:,i]=data_H[:,shift_k+res_params['train_length']:\\\n",
    "                           shift_k+res_params['train_length']+res_params['predict_length']]\n",
    "    Y_pred_Rd[:,:,i]=output"
   ]
  },
  {
   "cell_type": "code",
   "execution_count": 15,
   "id": "ac136e59",
   "metadata": {},
   "outputs": [],
   "source": [
    "RMSE_ini,RMSE_time=computeRMSE(Y_pred_Rd, Y_true_Rd)"
   ]
  },
  {
   "cell_type": "code",
   "execution_count": 16,
   "id": "e360220b",
   "metadata": {},
   "outputs": [],
   "source": [
    "savemat('train_length_83'+'_Res_size_1400'+'_Rd_0.1'+'_Shift_number_0'\\\n",
    "        +'.mat',{'Y_true':Y_true_Rd,'Y_pred':Y_pred_Rd,'RMSE_ini':RMSE_ini,'RMSE_time':RMSE_time})"
   ]
  },
  {
   "cell_type": "code",
   "execution_count": null,
   "id": "9b2275a3",
   "metadata": {},
   "outputs": [],
   "source": []
  }
 ],
 "metadata": {
  "kernelspec": {
   "display_name": "Python 3 (ipykernel)",
   "language": "python",
   "name": "python3"
  },
  "language_info": {
   "codemirror_mode": {
    "name": "ipython",
    "version": 3
   },
   "file_extension": ".py",
   "mimetype": "text/x-python",
   "name": "python",
   "nbconvert_exporter": "python",
   "pygments_lexer": "ipython3",
   "version": "3.8.5"
  }
 },
 "nbformat": 4,
 "nbformat_minor": 5
}
